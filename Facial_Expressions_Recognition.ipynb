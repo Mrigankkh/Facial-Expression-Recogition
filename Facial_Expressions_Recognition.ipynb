{
  "nbformat": 4,
  "nbformat_minor": 0,
  "metadata": {
    "accelerator": "GPU",
    "colab": {
      "name": "Facial_Expressions_Recognition.ipynb",
      "provenance": [],
      "collapsed_sections": []
    },
    "kernelspec": {
      "display_name": "Python 3",
      "name": "python3"
    },
    "language_info": {
      "name": "python"
    }
  },
  "cells": [
    {
      "cell_type": "markdown",
      "metadata": {
        "id": "N6T4HjQqechb"
      },
      "source": [
        "Project to recognize facial expressions using CNN networks"
      ]
    },
    {
      "cell_type": "markdown",
      "metadata": {
        "id": "FuheY5ip7ADu"
      },
      "source": [
        "First we get the data. I have uploaded the train and test csv files on my drive."
      ]
    },
    {
      "cell_type": "code",
      "metadata": {
        "colab": {
          "base_uri": "https://localhost:8080/"
        },
        "id": "gFZY8WDx7FgF",
        "outputId": "931c106b-f58d-4563-f804-63d8c3b390f1"
      },
      "source": [
        "from google.colab import drive\n",
        "drive.mount('/content/drive/')"
      ],
      "execution_count": 1,
      "outputs": [
        {
          "output_type": "stream",
          "text": [
            "Mounted at /content/drive/\n"
          ],
          "name": "stdout"
        }
      ]
    },
    {
      "cell_type": "code",
      "metadata": {
        "colab": {
          "base_uri": "https://localhost:8080/"
        },
        "id": "iUsbF0Si8Qt_",
        "outputId": "196bac90-4b37-4bb5-9cc8-958a35ec6af6"
      },
      "source": [
        "!ls '/content/drive/My Drive/My projects/data/fer'\n",
        "\n",
        "# Data is in the form [ label ,string of pixels]\n"
      ],
      "execution_count": 2,
      "outputs": [
        {
          "output_type": "stream",
          "text": [
            "train.csv\n"
          ],
          "name": "stdout"
        }
      ]
    },
    {
      "cell_type": "markdown",
      "metadata": {
        "id": "QLGNvLNhlbG6"
      },
      "source": [
        "Import the required libraries"
      ]
    },
    {
      "cell_type": "code",
      "metadata": {
        "id": "5GhnA42QlfvW"
      },
      "source": [
        "import numpy as np\n",
        "import torch\n",
        "import torchvision\n",
        "import torchvision.transforms as Transforms\n",
        "import torch.nn as nn\n",
        "import torch.nn.functional as F\n",
        "import os\n",
        "import cv2\n",
        "import pandas as pd\n",
        "import matplotlib.pyplot as plt\n",
        "from PIL import Image\n",
        "from torch.utils.data import Dataset"
      ],
      "execution_count": 21,
      "outputs": []
    },
    {
      "cell_type": "markdown",
      "metadata": {
        "id": "Ks8llK-TdOjv"
      },
      "source": [
        "We define the necessary transforms for augmenting the data and getting a higher accuracy."
      ]
    },
    {
      "cell_type": "code",
      "metadata": {
        "id": "1FBo5Ba528ku"
      },
      "source": [
        "train_transform = Transforms. Compose([\n",
        "                                      \n",
        "                                      Transforms.RandomHorizontalFlip(),\n",
        "                                    \n",
        "                                      Transforms.RandomCrop(44),\n",
        "                                      Transforms.Normalize((0.5),(0.5))\n",
        "])\n",
        "test_transform = Transforms.Compose([\n",
        "                                     Transforms.Resize(44),\n",
        "                                    Transforms.Normalize((0.5),(0.5),\n",
        "                                    \n",
        "                                    )\n",
        "])"
      ],
      "execution_count": 4,
      "outputs": []
    },
    {
      "cell_type": "markdown",
      "metadata": {
        "id": "7vIJfEpW_v_T"
      },
      "source": [
        "We store the csv file path for easier access\n"
      ]
    },
    {
      "cell_type": "code",
      "metadata": {
        "id": "8CjDvAJI_1rP"
      },
      "source": [
        "fer_csv = '/content/drive/My Drive/My projects/data/fer/train.csv'"
      ],
      "execution_count": 5,
      "outputs": []
    },
    {
      "cell_type": "markdown",
      "metadata": {
        "id": "F2Fhf3D_D_wl"
      },
      "source": [
        "Now we split the data into train data and test data"
      ]
    },
    {
      "cell_type": "code",
      "metadata": {
        "colab": {
          "base_uri": "https://localhost:8080/"
        },
        "id": "CL-qQV3WmOK5",
        "outputId": "b1aa3b0a-f7bd-4cc4-d7e7-9bdd52e36f18"
      },
      "source": [
        "full_df = pd.read_csv(fer_csv)\n",
        "train_df = full_df.sample(frac = 0.870807064)  # This fraction used so that we get our train data to be exactly 25000\n",
        "test_df = full_df.drop(train_df.index)\n",
        "print(train_df.shape)\n",
        "print(test_df.shape)\n",
        "\n",
        "train_df.to_csv('train.csv' , index = False)\n",
        "test_df.to_csv('test.csv', index = False)\n",
        "train_csv = 'train.csv'\n",
        "test_csv = 'test.csv'"
      ],
      "execution_count": 6,
      "outputs": [
        {
          "output_type": "stream",
          "text": [
            "(25000, 2)\n",
            "(3709, 2)\n"
          ],
          "name": "stdout"
        }
      ]
    },
    {
      "cell_type": "markdown",
      "metadata": {
        "id": "iMJjWEziduEQ"
      },
      "source": [
        "Let us define the class FERDataset for our train and test datasets."
      ]
    },
    {
      "cell_type": "code",
      "metadata": {
        "id": "Rzu6SaM8eb17"
      },
      "source": [
        "class FERDataset(Dataset):\n",
        "    \n",
        "    def __init__(self, file_path, transform=None ):\n",
        "        self.data = pd.read_csv(file_path)\n",
        "        self.transform = transform\n",
        "        #print(self.data.head())\n",
        "\n",
        "\n",
        "\n",
        "\n",
        "    def __len__(self):\n",
        "        return len(self.data)\n",
        "    \n",
        "    def __getitem__(self, index):\n",
        "        img = self.data.iloc[index, 1]\n",
        "        #img = img.split('\"')\n",
        "        #img = img[1]\n",
        "        img = img.split(\" \") # because the pixels are seperated by space\n",
        "        img = np.array(img, 'int') # just make sure it is int not str\n",
        "        img = img.reshape(1,48,48)\n",
        "        #img = np.transpose(img, (1,2,0))\n",
        "        #img = Image.fromarray((img * 255).astype(np.uint8))\n",
        "\n",
        "        img = torch.tensor(img)\n",
        "        img = torch.reshape(img,(1,48,48))\n",
        "        img = img.type(torch.FloatTensor)\n",
        "        label = self.data.iloc[index, 0]\n",
        "       \n",
        "        if self.transform is not None:\n",
        "            img = self.transform(img)\n",
        "            \n",
        "        return img, label"
      ],
      "execution_count": 7,
      "outputs": []
    },
    {
      "cell_type": "markdown",
      "metadata": {
        "id": "N5zRal3p4zt0"
      },
      "source": [
        "Define some hyper parameters"
      ]
    },
    {
      "cell_type": "code",
      "metadata": {
        "id": "cUYbyPZH4ywk"
      },
      "source": [
        "classes = ('Angry', 'Disgust', 'Fear', 'Happy', 'Sad', 'Surprise', 'Neutral')\n",
        "batch_size = 64\n",
        "num_of_epochs = 50"
      ],
      "execution_count": 8,
      "outputs": []
    },
    {
      "cell_type": "markdown",
      "metadata": {
        "id": "WyaUSn5o2b-H"
      },
      "source": [
        "Now let us  apply transforms and load the data using data loader"
      ]
    },
    {
      "cell_type": "code",
      "metadata": {
        "id": "E6Kr6ckbqGtj"
      },
      "source": [
        "#FER_Dataset = FERDataset(file_path = fer_csv, transform = test_transform)\n",
        "train_data = FERDataset(file_path = train_csv, transform = train_transform)\n",
        "test_data = FERDataset(file_path = test_csv, transform = test_transform)\n",
        "train_loader = torch.utils.data.DataLoader(dataset = train_data, shuffle = True , batch_size = batch_size )\n",
        "test_loader = torch.utils.data.DataLoader(dataset = test_data, shuffle = False , batch_size = batch_size  )"
      ],
      "execution_count": 9,
      "outputs": []
    },
    {
      "cell_type": "code",
      "metadata": {
        "colab": {
          "base_uri": "https://localhost:8080/"
        },
        "id": "n2DKrHKV3jxb",
        "outputId": "bf461b8c-f5ec-4a01-b5c4-86d4054fe4e8"
      },
      "source": [
        "train_iter = iter(train_loader)\n",
        "images,labels = train_iter.next()\n",
        "print(len(train_data))\n",
        "print(images.shape)\n",
        "print(labels.shape)\n",
        "images = images.type(torch.LongTensor)\n",
        "labels = labels.type(torch.LongTensor)\n",
        "#print(images[0].shape)"
      ],
      "execution_count": 10,
      "outputs": [
        {
          "output_type": "stream",
          "text": [
            "25000\n",
            "torch.Size([64, 1, 44, 44])\n",
            "torch.Size([64])\n"
          ],
          "name": "stdout"
        }
      ]
    },
    {
      "cell_type": "markdown",
      "metadata": {
        "id": "nqE6mjb6S3ar"
      },
      "source": [
        "Now let us print the first few images of our dataset. First we need to reshape the images to (48,48,1) "
      ]
    },
    {
      "cell_type": "code",
      "metadata": {
        "colab": {
          "base_uri": "https://localhost:8080/",
          "height": 104
        },
        "id": "BnuhSuOHD_7A",
        "outputId": "b12f6133-47ac-4a87-cf0c-cb69d24a6256"
      },
      "source": [
        "fig,axs = plt.subplots(nrows = 1 , ncols= 10 , figsize = (12,12))\n",
        "\n",
        "for img,i in zip(images,range(10)):\n",
        "  np_img = img.numpy()\n",
        "  np_img = np.reshape(np_img,(44,44))\n",
        "  axs[i].imshow(np_img, cmap = 'gray')\n",
        "  axs[i].axis('off')\n",
        "  axs[i].set_title(classes[labels[i]])\n",
        "plt.show()  "
      ],
      "execution_count": 11,
      "outputs": [
        {
          "output_type": "display_data",
          "data": {
            "image/png": "[encoded data removed]",
            "text/plain": [
              "<Figure size 864x864 with 10 Axes>"
            ]
          },
          "metadata": {
            "tags": [],
            "needs_background": "light"
          }
        }
      ]
    },
    {
      "cell_type": "markdown",
      "metadata": {
        "id": "Xjo_NU8EeLow"
      },
      "source": [
        "Now we define our model. I have tested two different models. \n",
        "1) A custom model\n",
        "2) VGG-13"
      ]
    },
    {
      "cell_type": "code",
      "metadata": {
        "colab": {
          "base_uri": "https://localhost:8080/"
        },
        "id": "7Vtcs9K4U8yg",
        "outputId": "e02d5a7c-07f0-4a72-e183-40f44d897340"
      },
      "source": [
        "# Custom\n",
        "class Net(nn.Module):\n",
        "  def __init__(self):\n",
        "     super(Net,self).__init__()\n",
        "     self.conv1 = nn.Conv2d(in_channels= 1 , out_channels= 16, kernel_size= (3,3), stride=1)\n",
        "     self.conv2 = nn.Conv2d(in_channels = 16, out_channels = 64 , kernel_size= (3,3),stride = 1)\n",
        "     self.conv3 = nn.Conv2d(in_channels = 64, out_channels = 128 , kernel_size= (3,3),stride = 1)\n",
        "     self.conv4 = nn.Conv2d(in_channels = 128, out_channels = 256 , kernel_size= (3,3),stride = 1)\n",
        "     self.maxpool = nn.MaxPool2d(kernel_size = (2,2) , stride = 2, ceil_mode=True)\n",
        "     self.fc1 = nn.Linear(in_features = 1*1*256 , out_features = 120)\n",
        "     self.fc2 = nn.Linear(in_features = 120 , out_features = 84)\n",
        "     self.fc3 = nn.Linear(in_features = 84 , out_features = 7)\n",
        "     self.dropout = nn.Dropout(0.5)\n",
        "     self.batchnorm1 = nn.BatchNorm2d(16)\n",
        "     self.relu = nn.ReLU()\n",
        "     self.batchnorm2 = nn.BatchNorm2d(128)\n",
        "     self.batchnorm3 = nn.BatchNorm2d(120)\n",
        "     self.batchnorm4 = nn.BatchNorm2d(84)\n",
        "\n",
        "  def forward(self,x):\n",
        "    x = torch.tensor(x,dtype=self.conv1.weight.dtype)\n",
        "    x = F.relu(self.conv1(x))\n",
        "    x = self.batchnorm1(x)\n",
        "    x = self.maxpool(x)\n",
        "    x = self.maxpool(F.relu(self.conv2(x)))\n",
        "    x = F.relu(self.conv3(x))\n",
        "    x = self.batchnorm2(x)\n",
        "    x = self.maxpool(x)\n",
        "    x = self.maxpool(F.relu(self.conv4(x)))\n",
        "    x = x.view(-1,1*1*256)\n",
        "    x = F.relu(self.fc1(x))\n",
        "  #  x = self.batchnorm3(x)\n",
        "    x = self.dropout(x)\n",
        "    x = F.relu(self.fc2(x))\n",
        "   # x = self.batchnorm4(x)\n",
        "    x = self.dropout(x)\n",
        "    x = self.fc3(x)\n",
        "    return x\n",
        "     \n",
        "\n",
        "model = Net()\n",
        "y = model(images)\n",
        "print(y.shape)\n"
      ],
      "execution_count": 12,
      "outputs": [
        {
          "output_type": "stream",
          "text": [
            "torch.Size([64, 7])\n"
          ],
          "name": "stdout"
        },
        {
          "output_type": "stream",
          "text": [
            "/usr/local/lib/python3.7/dist-packages/ipykernel_launcher.py:21: UserWarning: To copy construct from a tensor, it is recommended to use sourceTensor.clone().detach() or sourceTensor.clone().detach().requires_grad_(True), rather than torch.tensor(sourceTensor).\n",
            "/usr/local/lib/python3.7/dist-packages/torch/nn/functional.py:718: UserWarning: Named tensors and all their associated APIs are an experimental feature and subject to change. Please do not use them for anything important until they are released as stable. (Triggered internally at  /pytorch/c10/core/TensorImpl.h:1156.)\n",
            "  return torch.max_pool2d(input, kernel_size, stride, padding, dilation, ceil_mode)\n"
          ],
          "name": "stderr"
        }
      ]
    },
    {
      "cell_type": "code",
      "metadata": {
        "id": "pQIDiw93qMMW",
        "colab": {
          "base_uri": "https://localhost:8080/",
          "height": 120
        },
        "outputId": "6fcfb519-0dd8-493e-8450-69e0e399af6d"
      },
      "source": [
        "'''\n",
        "#VGG16\n",
        "\n",
        "VGG_types = {\n",
        "    \"VGG11\": [64, \"M\", 128, \"M\", 256, 256, \"M\", 512, 512, \"M\", 512, 512, \"M\"],\n",
        "    \"VGG13\": [64, 64, \"M\", 128, 128, \"M\", 256, 256, \"M\", 512, 512, \"M\", 512, 512, \"M\"],\n",
        "    \"VGG16\": [64,64, \"M\",128,128,\"M\",256,256,256,\"M\",512,512,512,\"M\",512,512,512,\"M\",],\n",
        "    \"VGG19\": [64,64,\"M\",128,128,\"M\",256,256,256,256,\"M\",512,512,512,512,\"M\",512,512,512,512,\"M\", ],\n",
        "}\n",
        "\n",
        "\n",
        "class VGG_net(nn.Module):\n",
        "    def __init__(self, in_channels=1, num_classes=7):\n",
        "        super(VGG_net, self).__init__()\n",
        "        self.in_channels = in_channels\n",
        "        self.conv_layers = self.create_conv_layers(VGG_types[\"VGG11\"])\n",
        "        self.conv1 = nn.Conv2d(1,1,1)\n",
        "        self.fcs = nn.Sequential(\n",
        "            nn.Linear(512 * 7 * 7, 4096),\n",
        "            nn.ReLU(),\n",
        "            nn.Dropout(p=0.5),\n",
        "            nn.Linear(4096, 4096),\n",
        "            nn.ReLU(),\n",
        "            nn.Dropout(p=0.5),\n",
        "            nn.Linear(4096, num_classes),\n",
        "        )\n",
        "\n",
        "    def forward(self, x):\n",
        "       # y = self.conv1.weight.dtype\n",
        "        x = torch.tensor(x,dtype= torch.float32)\n",
        "        x = self.conv_layers(x)\n",
        "        x = x.reshape(x.shape[0], -1)\n",
        "        x = self.fcs(x)\n",
        "        return x\n",
        "\n",
        "    def create_conv_layers(self, architecture):\n",
        "        layers = []\n",
        "        in_channels = self.in_channels\n",
        "\n",
        "        for x in architecture:\n",
        "            if type(x) == int:\n",
        "                out_channels = x\n",
        "\n",
        "                layers += [\n",
        "                    nn.Conv2d(\n",
        "                        in_channels=in_channels,\n",
        "                        out_channels=out_channels,\n",
        "                        kernel_size=(3, 3),\n",
        "                        stride=(1, 1),\n",
        "                        padding=(1, 1),\n",
        "                    ),\n",
        "                    nn.BatchNorm2d(x),\n",
        "                    nn.ReLU(),\n",
        "                ]\n",
        "                in_channels = x\n",
        "            elif x == \"M\":\n",
        "                layers += [nn.MaxPool2d(kernel_size=(2, 2), stride=(2, 2) , ceil_mode=  True)]\n",
        "\n",
        "        return nn.Sequential(*layers)\n",
        "\n",
        "\n",
        "\n",
        "model = VGG_net(in_channels=1, num_classes=7)  \n",
        "y = model(images)\n",
        "print(y.shape)\n",
        "'''"
      ],
      "execution_count": 13,
      "outputs": [
        {
          "output_type": "execute_result",
          "data": {
            "application/vnd.google.colaboratory.intrinsic+json": {
              "type": "string"
            },
            "text/plain": [
              "'\\n#VGG16\\n\\nVGG_types = {\\n    \"VGG11\": [64, \"M\", 128, \"M\", 256, 256, \"M\", 512, 512, \"M\", 512, 512, \"M\"],\\n    \"VGG13\": [64, 64, \"M\", 128, 128, \"M\", 256, 256, \"M\", 512, 512, \"M\", 512, 512, \"M\"],\\n    \"VGG16\": [64,64, \"M\",128,128,\"M\",256,256,256,\"M\",512,512,512,\"M\",512,512,512,\"M\",],\\n    \"VGG19\": [64,64,\"M\",128,128,\"M\",256,256,256,256,\"M\",512,512,512,512,\"M\",512,512,512,512,\"M\", ],\\n}\\n\\n\\nclass VGG_net(nn.Module):\\n    def __init__(self, in_channels=1, num_classes=7):\\n        super(VGG_net, self).__init__()\\n        self.in_channels = in_channels\\n        self.conv_layers = self.create_conv_layers(VGG_types[\"VGG11\"])\\n        self.conv1 = nn.Conv2d(1,1,1)\\n        self.fcs = nn.Sequential(\\n            nn.Linear(512 * 7 * 7, 4096),\\n            nn.ReLU(),\\n            nn.Dropout(p=0.5),\\n            nn.Linear(4096, 4096),\\n            nn.ReLU(),\\n            nn.Dropout(p=0.5),\\n            nn.Linear(4096, num_classes),\\n        )\\n\\n    def forward(self, x):\\n       # y = self.conv1.weight.dtype\\n        x = torch.tensor(x,dtype= torch.float32)\\n        x = self.conv_layers(x)\\n        x = x.reshape(x.shape[0], -1)\\n        x = self.fcs(x)\\n        return x\\n\\n    def create_conv_layers(self, architecture):\\n        layers = []\\n        in_channels = self.in_channels\\n\\n        for x in architecture:\\n            if type(x) == int:\\n                out_channels = x\\n\\n                layers += [\\n                    nn.Conv2d(\\n                        in_channels=in_channels,\\n                        out_channels=out_channels,\\n                        kernel_size=(3, 3),\\n                        stride=(1, 1),\\n                        padding=(1, 1),\\n                    ),\\n                    nn.BatchNorm2d(x),\\n                    nn.ReLU(),\\n                ]\\n                in_channels = x\\n            elif x == \"M\":\\n                layers += [nn.MaxPool2d(kernel_size=(2, 2), stride=(2, 2) , ceil_mode=  True)]\\n\\n        return nn.Sequential(*layers)\\n\\n\\n\\nmodel = VGG_net(in_channels=1, num_classes=7)  \\ny = model(images)\\nprint(y.shape)\\n'"
            ]
          },
          "metadata": {
            "tags": []
          },
          "execution_count": 13
        }
      ]
    },
    {
      "cell_type": "markdown",
      "metadata": {
        "id": "nOaWXCnjmTVN"
      },
      "source": [
        "Now we will define our loss funciton and optimizer"
      ]
    },
    {
      "cell_type": "code",
      "metadata": {
        "id": "COaK3JeVmY5L"
      },
      "source": [
        "criteria = nn.CrossEntropyLoss()\n",
        "optimizer = torch.optim.Adam(model.parameters(), lr=0.001,weight_decay=5e-4)"
      ],
      "execution_count": 14,
      "outputs": []
    },
    {
      "cell_type": "markdown",
      "metadata": {
        "id": "r6vWeiTzmdPB"
      },
      "source": [
        "We will initialize some lists that will help us plot our graphs"
      ]
    },
    {
      "cell_type": "code",
      "metadata": {
        "id": "OGnzhxS0mfbe"
      },
      "source": [
        "train_loss_list = []\n",
        "train_accuracy_list = []\n",
        "test_loss_list=[]\n",
        "test_accuracy_list = []\n"
      ],
      "execution_count": 15,
      "outputs": []
    },
    {
      "cell_type": "markdown",
      "metadata": {
        "id": "De3pluoImlCu"
      },
      "source": [
        "Now we will define our training loop"
      ]
    },
    {
      "cell_type": "code",
      "metadata": {
        "colab": {
          "base_uri": "https://localhost:8080/"
        },
        "id": "O9lVlWTqmie7",
        "outputId": "e307ef10-bcd0-4fc3-dc0a-71b00c4eef84"
      },
      "source": [
        "for epoch in range(num_of_epochs):\n",
        "\n",
        "  train_loss = 0\n",
        "  test_loss = 0\n",
        "  total_trained = 0\n",
        "  correct_trained = 0\n",
        "  train_accuracy = 0\n",
        "  total_tested = 0\n",
        "  correct_tested = 0\n",
        "  test_accuracy = 0 \n",
        "\n",
        "  for image,label in train_loader:\n",
        "   \n",
        "   \n",
        "   #forward pass\n",
        "   train_pred = model(image)\n",
        "   #calculating the loss\n",
        "   loss = criteria(train_pred,label)\n",
        "   #backward pass\n",
        "   loss.backward()\n",
        "   #changing weights\n",
        "   optimizer.step()\n",
        "\n",
        "   #emptying the gradient \n",
        "   optimizer.zero_grad()\n",
        "   \n",
        "   #now lets find the train accuracy and the train loss\n",
        "   train_loss+= loss.item()\n",
        "\n",
        "   _,train_pred = torch.max(train_pred,1)\n",
        "   total_trained += label.size(0)\n",
        "   correct_trained += train_pred.eq(label).sum().item()\n",
        " \n",
        "   #displaying the loss for each epoch\n",
        "  train_loss/= len(train_loader)\n",
        "  train_accuracy = 100.*(correct_trained/total_trained)\n",
        "  print(f'Epoch: {epoch+1} , Train Loss: {train_loss} , Train Accuracy: {train_accuracy}' ,  )\n",
        "  \n",
        "  \n",
        "  \n",
        "\n",
        "   #End of training\n",
        "\n",
        "   #Now the test loop\n",
        "\n",
        "  with torch.no_grad():  #we dont want to change our gradient when we test our data\n",
        "     for image,label in (test_loader):\n",
        "       \n",
        "       test_pred = model(image)\n",
        "\n",
        "       loss = criteria(test_pred,label)\n",
        "       \n",
        "       #now lets find the train accuracy and the Train loss\n",
        "       \n",
        "       test_loss+= loss.item()\n",
        "\n",
        "       #  The shape of test_pred is (50,10) i.e. it has a classification score for each of the 10 categories.\n",
        "       # The image belongs to the category with the maximum score.\n",
        "       # We also need to then transform the tensor into a 1D tensor with shape (50) and the data must be the category.\n",
        "\n",
        "      \n",
        "       _,test_pred = torch.max(test_pred,1)\n",
        "       total_tested += label.size(0)\n",
        "       correct_tested += test_pred.eq(label).sum().item()\n",
        "       \n",
        "\n",
        "     # Displaying the loss for each epoch\n",
        "     test_loss/= len(test_loader)\n",
        "     test_accuracy = 100.*(correct_tested/total_tested)\n",
        "     print(f'Epoch: {epoch+1} , Test Loss: {test_loss} , Test Accuracy: {test_accuracy}' ,  )\n",
        "    \n",
        "    #updating our lists\n",
        "\n",
        "     train_loss_list.append(train_loss)\n",
        "     test_loss_list.append(test_loss)\n",
        "     train_accuracy_list.append(train_accuracy)\n",
        "     test_accuracy_list.append(test_accuracy)"
      ],
      "execution_count": 16,
      "outputs": [
        {
          "output_type": "stream",
          "text": [
            "/usr/local/lib/python3.7/dist-packages/ipykernel_launcher.py:21: UserWarning: To copy construct from a tensor, it is recommended to use sourceTensor.clone().detach() or sourceTensor.clone().detach().requires_grad_(True), rather than torch.tensor(sourceTensor).\n"
          ],
          "name": "stderr"
        },
        {
          "output_type": "stream",
          "text": [
            "Epoch: 1 , Train Loss: 1.6782486938759493 , Train Accuracy: 32.556000000000004\n",
            "Epoch: 1 , Test Loss: 1.5676496131666775 , Test Accuracy: 39.201941224049605\n",
            "Epoch: 2 , Train Loss: 1.4357662798498598 , Train Accuracy: 45.192\n",
            "Epoch: 2 , Test Loss: 1.3920658765168026 , Test Accuracy: 47.452143434888114\n",
            "Epoch: 3 , Train Loss: 1.3305425474710781 , Train Accuracy: 49.632\n",
            "Epoch: 3 , Test Loss: 1.367907162370353 , Test Accuracy: 48.74629280129415\n",
            "Epoch: 4 , Train Loss: 1.2817695095106159 , Train Accuracy: 52.38\n",
            "Epoch: 4 , Test Loss: 1.3263994393677547 , Test Accuracy: 50.57967107036937\n",
            "Epoch: 5 , Train Loss: 1.2440417044607879 , Train Accuracy: 53.848\n",
            "Epoch: 5 , Test Loss: 1.2811338377409969 , Test Accuracy: 51.92774332704233\n",
            "Epoch: 6 , Train Loss: 1.2002054158683932 , Train Accuracy: 55.456\n",
            "Epoch: 6 , Test Loss: 1.2576937274686222 , Test Accuracy: 52.52089511997843\n",
            "Epoch: 7 , Train Loss: 1.1843113115681407 , Train Accuracy: 56.147999999999996\n",
            "Epoch: 7 , Test Loss: 1.2523589329472904 , Test Accuracy: 53.24885413858183\n",
            "Epoch: 8 , Train Loss: 1.154747701361966 , Train Accuracy: 57.204\n",
            "Epoch: 8 , Test Loss: 1.2032796175315463 , Test Accuracy: 55.43273119439201\n",
            "Epoch: 9 , Train Loss: 1.1384222342839936 , Train Accuracy: 57.98\n",
            "Epoch: 9 , Test Loss: 1.2294882484551133 , Test Accuracy: 53.38366136424912\n",
            "Epoch: 10 , Train Loss: 1.1247251824954587 , Train Accuracy: 58.424\n",
            "Epoch: 10 , Test Loss: 1.1939198641941464 , Test Accuracy: 55.244001078457806\n",
            "Epoch: 11 , Train Loss: 1.1102803802246328 , Train Accuracy: 59.0\n",
            "Epoch: 11 , Test Loss: 1.2047087580993259 , Test Accuracy: 55.702345645726616\n",
            "Epoch: 12 , Train Loss: 1.1005430864860943 , Train Accuracy: 59.5\n",
            "Epoch: 12 , Test Loss: 1.2132974205345943 , Test Accuracy: 56.079805877595035\n",
            "Epoch: 13 , Train Loss: 1.0836033165607306 , Train Accuracy: 60.07599999999999\n",
            "Epoch: 13 , Test Loss: 1.211450308561325 , Test Accuracy: 55.702345645726616\n",
            "Epoch: 14 , Train Loss: 1.0763137302435268 , Train Accuracy: 60.312\n",
            "Epoch: 14 , Test Loss: 1.2125685358869618 , Test Accuracy: 56.37638177406309\n",
            "Epoch: 15 , Train Loss: 1.0661286588215158 , Train Accuracy: 60.748000000000005\n",
            "Epoch: 15 , Test Loss: 1.1680857210323727 , Test Accuracy: 57.239148018333786\n",
            "Epoch: 16 , Train Loss: 1.0631493336099493 , Train Accuracy: 60.88400000000001\n",
            "Epoch: 16 , Test Loss: 1.1766856086665187 , Test Accuracy: 56.21461310326234\n",
            "Epoch: 17 , Train Loss: 1.0519401424986017 , Train Accuracy: 61.339999999999996\n",
            "Epoch: 17 , Test Loss: 1.1678616887536541 , Test Accuracy: 56.996495012132655\n",
            "Epoch: 18 , Train Loss: 1.0439617793883205 , Train Accuracy: 61.980000000000004\n",
            "Epoch: 18 , Test Loss: 1.2197433442905032 , Test Accuracy: 54.94742518198975\n",
            "Epoch: 19 , Train Loss: 1.0327366277994707 , Train Accuracy: 62.236000000000004\n",
            "Epoch: 19 , Test Loss: 1.1908825348163474 , Test Accuracy: 56.72688056079805\n",
            "Epoch: 20 , Train Loss: 1.0282525904953022 , Train Accuracy: 62.732\n",
            "Epoch: 20 , Test Loss: 1.1532698777215233 , Test Accuracy: 58.533297384739825\n",
            "Epoch: 21 , Train Loss: 1.0274756602619006 , Train Accuracy: 62.492000000000004\n",
            "Epoch: 21 , Test Loss: 1.1783756963137924 , Test Accuracy: 57.2930709086007\n",
            "Epoch: 22 , Train Loss: 1.0200688572186034 , Train Accuracy: 62.995999999999995\n",
            "Epoch: 22 , Test Loss: 1.1672951527710618 , Test Accuracy: 58.02102992720409\n",
            "Epoch: 23 , Train Loss: 1.0113958015161402 , Train Accuracy: 63.251999999999995\n",
            "Epoch: 23 , Test Loss: 1.1492310865172024 , Test Accuracy: 57.69749258560258\n",
            "Epoch: 24 , Train Loss: 1.0000524972101001 , Train Accuracy: 63.236000000000004\n",
            "Epoch: 24 , Test Loss: 1.1704048380769532 , Test Accuracy: 57.26610946346724\n",
            "Epoch: 25 , Train Loss: 1.0013094451421363 , Train Accuracy: 63.348000000000006\n",
            "Epoch: 25 , Test Loss: 1.1670374161210553 , Test Accuracy: 57.99406848207064\n",
            "Epoch: 26 , Train Loss: 0.9986844448482289 , Train Accuracy: 63.507999999999996\n",
            "Epoch: 26 , Test Loss: 1.1781417460277164 , Test Accuracy: 56.780803451064976\n",
            "Epoch: 27 , Train Loss: 0.986534407833958 , Train Accuracy: 64.11200000000001\n",
            "Epoch: 27 , Test Loss: 1.150347230763271 , Test Accuracy: 57.64356969533567\n",
            "Epoch: 28 , Train Loss: 0.9860626905775436 , Train Accuracy: 64.276\n",
            "Epoch: 28 , Test Loss: 1.1513934155990337 , Test Accuracy: 57.77837692100296\n",
            "Epoch: 29 , Train Loss: 0.9736450049273498 , Train Accuracy: 64.8\n",
            "Epoch: 29 , Test Loss: 1.1480457433338822 , Test Accuracy: 57.91318414667026\n",
            "Epoch: 30 , Train Loss: 0.9712795656355445 , Train Accuracy: 64.44\n",
            "Epoch: 30 , Test Loss: 1.1513871848583221 , Test Accuracy: 57.07737934753303\n",
            "Epoch: 31 , Train Loss: 0.9673961382692732 , Train Accuracy: 64.672\n",
            "Epoch: 31 , Test Loss: 1.1442864249492515 , Test Accuracy: 59.099487732542464\n",
            "Epoch: 32 , Train Loss: 0.9690718935883563 , Train Accuracy: 64.748\n",
            "Epoch: 32 , Test Loss: 1.1652847888140843 , Test Accuracy: 57.805338366136425\n",
            "Epoch: 33 , Train Loss: 0.962718142267993 , Train Accuracy: 65.288\n",
            "Epoch: 33 , Test Loss: 1.1516896013555855 , Test Accuracy: 58.56025882987328\n",
            "Epoch: 34 , Train Loss: 0.9578220205538718 , Train Accuracy: 65.556\n",
            "Epoch: 34 , Test Loss: 1.1369115473895237 , Test Accuracy: 58.39849015907252\n",
            "Epoch: 35 , Train Loss: 0.9575568268366177 , Train Accuracy: 65.33200000000001\n",
            "Epoch: 35 , Test Loss: 1.13679059415028 , Test Accuracy: 59.099487732542464\n",
            "Epoch: 36 , Train Loss: 0.941183395245496 , Train Accuracy: 66.2\n",
            "Epoch: 36 , Test Loss: 1.145702749490738 , Test Accuracy: 59.234294958209766\n",
            "Epoch: 37 , Train Loss: 0.9452995699080055 , Train Accuracy: 65.96\n",
            "Epoch: 37 , Test Loss: 1.170660145323852 , Test Accuracy: 58.12887570773794\n",
            "Epoch: 38 , Train Loss: 0.9385607038312556 , Train Accuracy: 66.144\n",
            "Epoch: 38 , Test Loss: 1.1429303966719528 , Test Accuracy: 59.2073335130763\n",
            "Epoch: 39 , Train Loss: 0.9387702772684414 , Train Accuracy: 66.428\n",
            "Epoch: 39 , Test Loss: 1.159404420647128 , Test Accuracy: 58.12887570773794\n",
            "Epoch: 40 , Train Loss: 0.9302212021235005 , Train Accuracy: 66.468\n",
            "Epoch: 40 , Test Loss: 1.1497002562572216 , Test Accuracy: 59.12644917767592\n",
            "Epoch: 41 , Train Loss: 0.9338047829125543 , Train Accuracy: 66.164\n",
            "Epoch: 41 , Test Loss: 1.1535877061301265 , Test Accuracy: 58.88379617147479\n",
            "Epoch: 42 , Train Loss: 0.9341554492330917 , Train Accuracy: 66.0\n",
            "Epoch: 42 , Test Loss: 1.145032517868897 , Test Accuracy: 58.42545160420598\n",
            "Epoch: 43 , Train Loss: 0.9233083167039525 , Train Accuracy: 66.688\n",
            "Epoch: 43 , Test Loss: 1.14907683072419 , Test Accuracy: 59.26125640334322\n",
            "Epoch: 44 , Train Loss: 0.9200537223035418 , Train Accuracy: 66.788\n",
            "Epoch: 44 , Test Loss: 1.1843156886511836 , Test Accuracy: 58.10191426260447\n",
            "Epoch: 45 , Train Loss: 0.9166917540228275 , Train Accuracy: 66.888\n",
            "Epoch: 45 , Test Loss: 1.1483755491930863 , Test Accuracy: 58.641143165273654\n",
            "Epoch: 46 , Train Loss: 0.9108312486687584 , Train Accuracy: 67.16\n",
            "Epoch: 46 , Test Loss: 1.131921609927868 , Test Accuracy: 59.611755190078185\n",
            "Epoch: 47 , Train Loss: 0.9149404834298527 , Train Accuracy: 67.092\n",
            "Epoch: 47 , Test Loss: 1.155149050827684 , Test Accuracy: 58.6141817201402\n",
            "Epoch: 48 , Train Loss: 0.9048457900276574 , Train Accuracy: 67.52\n",
            "Epoch: 48 , Test Loss: 1.1513676365901684 , Test Accuracy: 58.641143165273654\n",
            "Epoch: 49 , Train Loss: 0.9125297610717051 , Train Accuracy: 66.67999999999999\n",
            "Epoch: 49 , Test Loss: 1.1643788824821342 , Test Accuracy: 57.96710703693718\n",
            "Epoch: 50 , Train Loss: 0.9082602283838764 , Train Accuracy: 67.284\n",
            "Epoch: 50 , Test Loss: 1.1360468309501122 , Test Accuracy: 59.01860339714209\n"
          ],
          "name": "stdout"
        }
      ]
    },
    {
      "cell_type": "markdown",
      "metadata": {
        "id": "r42AJIKTmv7n"
      },
      "source": [
        "Now, we will plot the loss graph and the accuracy graph"
      ]
    },
    {
      "cell_type": "code",
      "metadata": {
        "id": "YhoWmOsEmyaa",
        "colab": {
          "base_uri": "https://localhost:8080/",
          "height": 282
        },
        "outputId": "f6651937-42e2-46d1-9fbc-ad6b4fd96fa1"
      },
      "source": [
        "#accuracy graph\n",
        "plt.plot(train_accuracy_list, label ='Training Accuracy')\n",
        "plt.plot(test_accuracy_list, label = 'Validation Accuracy')\n",
        "plt.legend()"
      ],
      "execution_count": 17,
      "outputs": [
        {
          "output_type": "execute_result",
          "data": {
            "text/plain": [
              "<matplotlib.legend.Legend at 0x7fca136742d0>"
            ]
          },
          "metadata": {
            "tags": []
          },
          "execution_count": 17
        },
        {
          "output_type": "display_data",
          "data": {
            "image/png": "[encoded data removed]",
            "text/plain": [
              "<Figure size 432x288 with 1 Axes>"
            ]
          },
          "metadata": {
            "tags": [],
            "needs_background": "light"
          }
        }
      ]
    },
    {
      "cell_type": "code",
      "metadata": {
        "id": "NuQmADMHm8Ln",
        "colab": {
          "base_uri": "https://localhost:8080/",
          "height": 282
        },
        "outputId": "1b484af5-a637-4c6e-9df8-64aa72ad5ffa"
      },
      "source": [
        "#loss graph\n",
        "plt.plot(train_loss_list, label ='Training Loss')\n",
        "plt.plot(test_loss_list, label = 'Validation loss')\n",
        "plt.legend()"
      ],
      "execution_count": 18,
      "outputs": [
        {
          "output_type": "execute_result",
          "data": {
            "text/plain": [
              "<matplotlib.legend.Legend at 0x7fca13674e90>"
            ]
          },
          "metadata": {
            "tags": []
          },
          "execution_count": 18
        },
        {
          "output_type": "display_data",
          "data": {
            "image/png": "[encoded data removed]",
            "text/plain": [
              "<Figure size 432x288 with 1 Axes>"
            ]
          },
          "metadata": {
            "tags": [],
            "needs_background": "light"
          }
        }
      ]
    }
  ]
}